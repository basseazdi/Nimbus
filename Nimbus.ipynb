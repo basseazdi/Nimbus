{
 "cells": [
  {
   "cell_type": "code",
   "execution_count": 153,
   "id": "e0a791eb",
   "metadata": {},
   "outputs": [
    {
     "name": "stdout",
     "output_type": "stream",
     "text": [
      "Integer A is: 2 and Integer C is 12\n",
      "Integer A is: 6 and Integer C is 42\n",
      "Integer A is: 2 and Integer C is 6\n",
      "Integer A is: 5 and Integer C is 30\n",
      "Integer A is: 2 and Integer C is 6\n",
      "Integer A is: 8 and Integer C is 48\n",
      "Integer A is: 2 and Integer C is 8\n",
      "Integer A is: 2 and Integer C is 8\n",
      "Integer A is: 3 and Integer C is 15\n",
      "Integer A is: 2 and Integer C is 4\n",
      "Success! Integer A is 2 And Integer B is 2\n"
     ]
    }
   ],
   "source": [
    "def nimbus():\n",
    "    # Generate any starting C value that is not 4, else the function is useless\n",
    "    C=0\n",
    "    # As long as C isn't 4, print every A and C\n",
    "    while C!=4 :\n",
    "        import random\n",
    "        # stores a random integer A between 1 and 9\n",
    "        A = random.randrange(1,10)\n",
    "        # stores a random integer B between 1 and 9\n",
    "        B = random.randrange(1,10)\n",
    "        # Create C\n",
    "        C = B*A\n",
    "        print(\"Integer A is:\",A,\"and Integer C is\",C)\n",
    "    # When C is 4, print Success! and the results for A and B\n",
    "    print(\"Success! Integer A is\",A,\"And Integer B is\",B)\n",
    "    \n",
    "nimbus()\n",
    "    \n"
   ]
  },
  {
   "cell_type": "code",
   "execution_count": null,
   "id": "4fecacb0",
   "metadata": {},
   "outputs": [],
   "source": []
  }
 ],
 "metadata": {
  "kernelspec": {
   "display_name": "Python 3 (ipykernel)",
   "language": "python",
   "name": "python3"
  },
  "language_info": {
   "codemirror_mode": {
    "name": "ipython",
    "version": 3
   },
   "file_extension": ".py",
   "mimetype": "text/x-python",
   "name": "python",
   "nbconvert_exporter": "python",
   "pygments_lexer": "ipython3",
   "version": "3.11.4"
  }
 },
 "nbformat": 4,
 "nbformat_minor": 5
}
